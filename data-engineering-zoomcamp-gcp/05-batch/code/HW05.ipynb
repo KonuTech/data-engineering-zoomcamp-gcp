{
 "cells": [
  {
   "cell_type": "code",
   "execution_count": 1,
   "id": "fd4bb568-e4d1-4104-98cc-a4fca8e41df9",
   "metadata": {},
   "outputs": [],
   "source": [
    "import os"
   ]
  },
  {
   "cell_type": "code",
   "execution_count": 2,
   "id": "539d70fc-49a8-445c-9eda-fcd9991bacc8",
   "metadata": {},
   "outputs": [
    {
     "data": {
      "text/plain": [
       "'/home/pd2669/data-engineering-zoomcamp-gcp/05-batch/code'"
      ]
     },
     "execution_count": 2,
     "metadata": {},
     "output_type": "execute_result"
    }
   ],
   "source": [
    "os.getcwd()"
   ]
  },
  {
   "cell_type": "code",
   "execution_count": 3,
   "id": "00bc6543",
   "metadata": {},
   "outputs": [],
   "source": [
    "import pyspark\n",
    "from pyspark.sql import SparkSession\n",
    "from pyspark.sql import types"
   ]
  },
  {
   "cell_type": "code",
   "execution_count": 4,
   "id": "cd4a0f3d",
   "metadata": {},
   "outputs": [
    {
     "name": "stderr",
     "output_type": "stream",
     "text": [
      "Setting default log level to \"WARN\".\n",
      "To adjust logging level use sc.setLogLevel(newLevel). For SparkR, use setLogLevel(newLevel).\n",
      "24/03/02 21:21:47 WARN NativeCodeLoader: Unable to load native-hadoop library for your platform... using builtin-java classes where applicable\n"
     ]
    }
   ],
   "source": [
    "spark = SparkSession.builder \\\n",
    "    .master(\"local[*]\") \\\n",
    "    .appName('test') \\\n",
    "    .getOrCreate()"
   ]
  },
  {
   "cell_type": "code",
   "execution_count": 5,
   "id": "eb3e4c36",
   "metadata": {},
   "outputs": [
    {
     "data": {
      "text/plain": [
       "'3.5.1'"
      ]
     },
     "execution_count": 5,
     "metadata": {},
     "output_type": "execute_result"
    }
   ],
   "source": [
    "spark.version"
   ]
  },
  {
   "cell_type": "code",
   "execution_count": 6,
   "id": "223da820-6fdf-46e4-a77a-b474f91fb03f",
   "metadata": {},
   "outputs": [
    {
     "name": "stdout",
     "output_type": "stream",
     "text": [
      "total 19M\n",
      "-rw-rw-r-- 1 pd2669 pd2669 19M Mar  2 19:48 fhv_tripdata_2019-10.csv.gz\n"
     ]
    }
   ],
   "source": [
    "!ls -lh ./data/raw/fhv/"
   ]
  },
  {
   "cell_type": "code",
   "execution_count": 7,
   "id": "5236cebd",
   "metadata": {},
   "outputs": [
    {
     "name": "stdout",
     "output_type": "stream",
     "text": [
      "-rw-rw-r-- 1 pd2669 pd2669 19M Mar  2 19:48 ./data/raw/fhv/fhv_tripdata_2019-10.csv.gz\n"
     ]
    }
   ],
   "source": [
    "!ls -lh ./data/raw/fhv/fhv_tripdata_2019-10.csv.gz"
   ]
  },
  {
   "cell_type": "code",
   "execution_count": 11,
   "id": "0a3399a3",
   "metadata": {},
   "outputs": [],
   "source": [
    "schema = types.StructType([\n",
    "    types.StructField('dispatching_base_num', types.StringType(), True),\n",
    "    types.StructField('pickup_datetime', types.TimestampType(), True),\n",
    "    types.StructField('dropoff_datetime', types.TimestampType(), True),\n",
    "    types.StructField('PULocationID', types.IntegerType(), True),\n",
    "    types.StructField('DOLocationID', types.IntegerType(), True),\n",
    "    types.StructField('SR_Flag', types.StringType(), True),\n",
    "    types.StructField('hvfhs_license_num', types.StringType(), True),\n",
    "])"
   ]
  },
  {
   "cell_type": "code",
   "execution_count": 12,
   "id": "ec467674-abfa-4cca-a8e3-8935c5468a18",
   "metadata": {},
   "outputs": [],
   "source": [
    "schema = types.StructType([\n",
    "    types.StructField('dispatching_base_num', types.StringType(), True),\n",
    "    types.StructField('pickup_datetime', types.TimestampType(), True),\n",
    "    types.StructField('dropoff_datetime', types.TimestampType(), True),\n",
    "    types.StructField('PULocationID', types.IntegerType(), True),\n",
    "    types.StructField('DOLocationID', types.IntegerType(), True),\n",
    "    types.StructField('SR_Flag', types.StringType(), True),\n",
    "    types.StructField('Affiliated_base_number', types.StringType(), True),\n",
    "])"
   ]
  },
  {
   "cell_type": "code",
   "execution_count": 14,
   "id": "e6676c2b-ed49-4ae0-9d34-df5596ab471b",
   "metadata": {},
   "outputs": [
    {
     "name": "stdout",
     "output_type": "stream",
     "text": [
      "./fhvhv/:\n",
      "total 4.0K\n",
      "drwxr-xr-x 3 pd2669 pd2669 4.0K Mar  2 10:16 2021\n",
      "\n",
      "./fhvhv/2021:\n",
      "total 4.0K\n",
      "drwxr-xr-x 2 pd2669 pd2669 4.0K Mar  2 10:17 01\n",
      "\n",
      "./fhvhv/2021/01:\n",
      "total 226M\n",
      "-rw-r--r-- 1 pd2669 pd2669    0 Mar  2 10:17 _SUCCESS\n",
      "-rw-r--r-- 1 pd2669 pd2669 9.4M Mar  2 10:16 part-00000-fee89bcd-ad50-497f-8503-2505b779b3af-c000.snappy.parquet\n",
      "-rw-r--r-- 1 pd2669 pd2669 9.4M Mar  2 10:16 part-00001-fee89bcd-ad50-497f-8503-2505b779b3af-c000.snappy.parquet\n",
      "-rw-r--r-- 1 pd2669 pd2669 9.4M Mar  2 10:16 part-00002-fee89bcd-ad50-497f-8503-2505b779b3af-c000.snappy.parquet\n",
      "-rw-r--r-- 1 pd2669 pd2669 9.4M Mar  2 10:16 part-00003-fee89bcd-ad50-497f-8503-2505b779b3af-c000.snappy.parquet\n",
      "-rw-r--r-- 1 pd2669 pd2669 9.4M Mar  2 10:16 part-00004-fee89bcd-ad50-497f-8503-2505b779b3af-c000.snappy.parquet\n",
      "-rw-r--r-- 1 pd2669 pd2669 9.4M Mar  2 10:16 part-00005-fee89bcd-ad50-497f-8503-2505b779b3af-c000.snappy.parquet\n",
      "-rw-r--r-- 1 pd2669 pd2669 9.4M Mar  2 10:17 part-00006-fee89bcd-ad50-497f-8503-2505b779b3af-c000.snappy.parquet\n",
      "-rw-r--r-- 1 pd2669 pd2669 9.4M Mar  2 10:17 part-00007-fee89bcd-ad50-497f-8503-2505b779b3af-c000.snappy.parquet\n",
      "-rw-r--r-- 1 pd2669 pd2669 9.4M Mar  2 10:17 part-00008-fee89bcd-ad50-497f-8503-2505b779b3af-c000.snappy.parquet\n",
      "-rw-r--r-- 1 pd2669 pd2669 9.4M Mar  2 10:17 part-00009-fee89bcd-ad50-497f-8503-2505b779b3af-c000.snappy.parquet\n",
      "-rw-r--r-- 1 pd2669 pd2669 9.4M Mar  2 10:17 part-00010-fee89bcd-ad50-497f-8503-2505b779b3af-c000.snappy.parquet\n",
      "-rw-r--r-- 1 pd2669 pd2669 9.4M Mar  2 10:17 part-00011-fee89bcd-ad50-497f-8503-2505b779b3af-c000.snappy.parquet\n",
      "-rw-r--r-- 1 pd2669 pd2669 9.4M Mar  2 10:17 part-00012-fee89bcd-ad50-497f-8503-2505b779b3af-c000.snappy.parquet\n",
      "-rw-r--r-- 1 pd2669 pd2669 9.4M Mar  2 10:17 part-00013-fee89bcd-ad50-497f-8503-2505b779b3af-c000.snappy.parquet\n",
      "-rw-r--r-- 1 pd2669 pd2669 9.4M Mar  2 10:17 part-00014-fee89bcd-ad50-497f-8503-2505b779b3af-c000.snappy.parquet\n",
      "-rw-r--r-- 1 pd2669 pd2669 9.4M Mar  2 10:17 part-00015-fee89bcd-ad50-497f-8503-2505b779b3af-c000.snappy.parquet\n",
      "-rw-r--r-- 1 pd2669 pd2669 9.4M Mar  2 10:17 part-00016-fee89bcd-ad50-497f-8503-2505b779b3af-c000.snappy.parquet\n",
      "-rw-r--r-- 1 pd2669 pd2669 9.4M Mar  2 10:17 part-00017-fee89bcd-ad50-497f-8503-2505b779b3af-c000.snappy.parquet\n",
      "-rw-r--r-- 1 pd2669 pd2669 9.4M Mar  2 10:17 part-00018-fee89bcd-ad50-497f-8503-2505b779b3af-c000.snappy.parquet\n",
      "-rw-r--r-- 1 pd2669 pd2669 9.4M Mar  2 10:17 part-00019-fee89bcd-ad50-497f-8503-2505b779b3af-c000.snappy.parquet\n",
      "-rw-r--r-- 1 pd2669 pd2669 9.4M Mar  2 10:17 part-00020-fee89bcd-ad50-497f-8503-2505b779b3af-c000.snappy.parquet\n",
      "-rw-r--r-- 1 pd2669 pd2669 9.4M Mar  2 10:17 part-00021-fee89bcd-ad50-497f-8503-2505b779b3af-c000.snappy.parquet\n",
      "-rw-r--r-- 1 pd2669 pd2669 9.4M Mar  2 10:17 part-00022-fee89bcd-ad50-497f-8503-2505b779b3af-c000.snappy.parquet\n",
      "-rw-r--r-- 1 pd2669 pd2669 9.4M Mar  2 10:17 part-00023-fee89bcd-ad50-497f-8503-2505b779b3af-c000.snappy.parquet\n"
     ]
    }
   ],
   "source": [
    "!ls -lhR ./fhvhv/"
   ]
  },
  {
   "cell_type": "code",
   "execution_count": 27,
   "id": "3bbe8159-5960-4e18-9c6e-560d4538f0dd",
   "metadata": {},
   "outputs": [],
   "source": [
    "# df = spark.read \\\n",
    "#     .option(\"header\", \"true\") \\\n",
    "#     .schema(schema) \\\n",
    "#     .csv('./data/raw/fhv/fhv_tripdata_2019-10.csv.gz')\n",
    "\n",
    "# df = df.repartition(6)\n",
    "\n",
    "# df.write.mode(\"overwrite\").parquet('./data/pq/fhv/2019/10')"
   ]
  },
  {
   "cell_type": "code",
   "execution_count": 26,
   "id": "68bc8b72",
   "metadata": {},
   "outputs": [
    {
     "name": "stderr",
     "output_type": "stream",
     "text": [
      "                                                                                \r"
     ]
    }
   ],
   "source": [
    "df = spark.read \\\n",
    "    .option(\"header\", \"true\") \\\n",
    "    .option(\"inferSchema\", \"true\") \\\n",
    "    .csv('./data/raw/fhv/fhv_tripdata_2019-10.csv.gz')\n",
    "\n",
    "df = df.repartition(6)\n",
    "\n",
    "df.write.mode(\"overwrite\").parquet('./data/pq/fhv/2019/10')"
   ]
  },
  {
   "cell_type": "markdown",
   "id": "368bd453-f3ec-4c3e-8aed-4b4e8b2a84e1",
   "metadata": {},
   "source": [
    "**Q2**:\n",
    "What is the average size of the Parquet (ending with .parquet extension) Files that were created (in MB)? Select the answer which most closely matches.\n",
    "\n",
    "1MB\n",
    "6MB\n",
    "25MB\n",
    "87MB"
   ]
  },
  {
   "cell_type": "code",
   "execution_count": 28,
   "id": "81d02f38-a11b-48f1-aa1f-b3413e3d2777",
   "metadata": {},
   "outputs": [
    {
     "name": "stdout",
     "output_type": "stream",
     "text": [
      "./data/pq/fhv/:\n",
      "total 4.0K\n",
      "drwxr-xr-x 3 pd2669 pd2669 4.0K Mar  2 21:33 2019\n",
      "\n",
      "./data/pq/fhv/2019:\n",
      "total 4.0K\n",
      "drwxr-xr-x 2 pd2669 pd2669 4.0K Mar  2 21:33 10\n",
      "\n",
      "./data/pq/fhv/2019/10:\n",
      "total 39M\n",
      "-rw-r--r-- 1 pd2669 pd2669    0 Mar  2 21:33 _SUCCESS\n",
      "-rw-r--r-- 1 pd2669 pd2669 6.4M Mar  2 21:33 part-00000-5b087c80-6b11-4c54-b5d8-df4030b25c47-c000.snappy.parquet\n",
      "-rw-r--r-- 1 pd2669 pd2669 6.4M Mar  2 21:33 part-00001-5b087c80-6b11-4c54-b5d8-df4030b25c47-c000.snappy.parquet\n",
      "-rw-r--r-- 1 pd2669 pd2669 6.4M Mar  2 21:33 part-00002-5b087c80-6b11-4c54-b5d8-df4030b25c47-c000.snappy.parquet\n",
      "-rw-r--r-- 1 pd2669 pd2669 6.4M Mar  2 21:33 part-00003-5b087c80-6b11-4c54-b5d8-df4030b25c47-c000.snappy.parquet\n",
      "-rw-r--r-- 1 pd2669 pd2669 6.4M Mar  2 21:33 part-00004-5b087c80-6b11-4c54-b5d8-df4030b25c47-c000.snappy.parquet\n",
      "-rw-r--r-- 1 pd2669 pd2669 6.4M Mar  2 21:33 part-00005-5b087c80-6b11-4c54-b5d8-df4030b25c47-c000.snappy.parquet\n"
     ]
    }
   ],
   "source": [
    "!ls -lhR ./data/pq/fhv/"
   ]
  },
  {
   "cell_type": "code",
   "execution_count": 29,
   "id": "09da8307-965d-4f23-8b24-d11faa260d9d",
   "metadata": {},
   "outputs": [
    {
     "data": {
      "text/plain": [
       "StructType([StructField('dispatching_base_num', StringType(), True), StructField('pickup_datetime', TimestampType(), True), StructField('dropOff_datetime', TimestampType(), True), StructField('PUlocationID', IntegerType(), True), StructField('DOlocationID', IntegerType(), True), StructField('SR_Flag', StringType(), True), StructField('Affiliated_base_number', StringType(), True)])"
      ]
     },
     "execution_count": 29,
     "metadata": {},
     "output_type": "execute_result"
    }
   ],
   "source": [
    "df.schema"
   ]
  },
  {
   "cell_type": "markdown",
   "id": "08134fe2-14c3-4777-8163-444f3b8cb2eb",
   "metadata": {},
   "source": [
    "**Q3**:\n",
    "\n",
    "How many taxi trips were there on the 15th of October?\n",
    "\n",
    "Consider only trips that started on the 15th of October."
   ]
  },
  {
   "cell_type": "code",
   "execution_count": 30,
   "id": "f7489aea",
   "metadata": {},
   "outputs": [],
   "source": [
    "from pyspark.sql import functions as F"
   ]
  },
  {
   "cell_type": "code",
   "execution_count": 31,
   "id": "6c2500fd",
   "metadata": {},
   "outputs": [
    {
     "name": "stderr",
     "output_type": "stream",
     "text": [
      "                                                                                \r"
     ]
    },
    {
     "data": {
      "text/plain": [
       "62610"
      ]
     },
     "execution_count": 31,
     "metadata": {},
     "output_type": "execute_result"
    }
   ],
   "source": [
    "df \\\n",
    "    .withColumn('pickup_date', F.to_date(df.pickup_datetime)) \\\n",
    "    .filter(\"pickup_date = '2019-10-15'\") \\\n",
    "    .count()"
   ]
  },
  {
   "cell_type": "code",
   "execution_count": 39,
   "id": "dd7ae60d",
   "metadata": {},
   "outputs": [],
   "source": [
    "df.registerTempTable('fhv_2019_10')"
   ]
  },
  {
   "cell_type": "code",
   "execution_count": 40,
   "id": "6d47c147",
   "metadata": {},
   "outputs": [
    {
     "name": "stderr",
     "output_type": "stream",
     "text": [
      "[Stage 48:>                                                         (0 + 1) / 1]\r"
     ]
    },
    {
     "name": "stdout",
     "output_type": "stream",
     "text": [
      "+--------+\n",
      "|count(1)|\n",
      "+--------+\n",
      "|   62610|\n",
      "+--------+\n",
      "\n"
     ]
    },
    {
     "name": "stderr",
     "output_type": "stream",
     "text": [
      "                                                                                \r"
     ]
    }
   ],
   "source": [
    "spark.sql(\"\"\"\n",
    "SELECT\n",
    "    COUNT(1)\n",
    "FROM \n",
    "    fhv_2019_10\n",
    "WHERE\n",
    "    to_date(pickup_datetime) = '2019-10-15';\n",
    "\"\"\").show()"
   ]
  },
  {
   "cell_type": "markdown",
   "id": "ae3f533b",
   "metadata": {},
   "source": [
    "**Q4**: Longest trip for each day"
   ]
  },
  {
   "cell_type": "code",
   "execution_count": 34,
   "id": "8fd3b356-8921-4b2b-9d32-463bfd183797",
   "metadata": {},
   "outputs": [
    {
     "data": {
      "text/plain": [
       "StructType([StructField('dispatching_base_num', StringType(), True), StructField('pickup_datetime', TimestampType(), True), StructField('dropOff_datetime', TimestampType(), True), StructField('PUlocationID', IntegerType(), True), StructField('DOlocationID', IntegerType(), True), StructField('SR_Flag', StringType(), True), StructField('Affiliated_base_number', StringType(), True)])"
      ]
     },
     "execution_count": 34,
     "metadata": {},
     "output_type": "execute_result"
    }
   ],
   "source": [
    "df.schema"
   ]
  },
  {
   "cell_type": "code",
   "execution_count": 35,
   "id": "7befe422",
   "metadata": {},
   "outputs": [
    {
     "data": {
      "text/plain": [
       "['dispatching_base_num',\n",
       " 'pickup_datetime',\n",
       " 'dropOff_datetime',\n",
       " 'PUlocationID',\n",
       " 'DOlocationID',\n",
       " 'SR_Flag',\n",
       " 'Affiliated_base_number']"
      ]
     },
     "execution_count": 35,
     "metadata": {},
     "output_type": "execute_result"
    }
   ],
   "source": [
    "df.columns"
   ]
  },
  {
   "cell_type": "code",
   "execution_count": 37,
   "id": "279d9161",
   "metadata": {},
   "outputs": [
    {
     "name": "stderr",
     "output_type": "stream",
     "text": [
      "[Stage 38:================================================>         (5 + 1) / 6]\r"
     ]
    },
    {
     "name": "stdout",
     "output_type": "stream",
     "text": [
      "+-----------+-------------+\n",
      "|pickup_date|max(duration)|\n",
      "+-----------+-------------+\n",
      "| 2019-10-28|   2272149000|\n",
      "| 2019-10-11|   2272149000|\n",
      "| 2019-10-31|    315620787|\n",
      "| 2019-10-01|    252460901|\n",
      "| 2019-10-17|     31658400|\n",
      "+-----------+-------------+\n",
      "\n"
     ]
    },
    {
     "name": "stderr",
     "output_type": "stream",
     "text": [
      "                                                                                \r"
     ]
    }
   ],
   "source": [
    "df \\\n",
    "    .withColumn('duration', df.dropOff_datetime.cast('long') - df.pickup_datetime.cast('long')) \\\n",
    "    .withColumn('pickup_date', F.to_date(df.pickup_datetime)) \\\n",
    "    .groupBy('pickup_date') \\\n",
    "        .max('duration') \\\n",
    "    .orderBy('max(duration)', ascending=False) \\\n",
    "    .limit(5) \\\n",
    "    .show()"
   ]
  },
  {
   "cell_type": "code",
   "execution_count": 38,
   "id": "6d3ae829-dd59-489a-a8c4-be75bfb0671d",
   "metadata": {},
   "outputs": [
    {
     "name": "stderr",
     "output_type": "stream",
     "text": [
      "[Stage 44:======================================>                   (4 + 2) / 6]\r"
     ]
    },
    {
     "name": "stdout",
     "output_type": "stream",
     "text": [
      "+-----------+--------------------+------------------+\n",
      "|pickup_date|max_duration_seconds|max_duration_hours|\n",
      "+-----------+--------------------+------------------+\n",
      "| 2019-10-28|          2272149000|          631152.5|\n",
      "| 2019-10-11|          2272149000|          631152.5|\n",
      "| 2019-10-31|           315620787| 87672.44083333333|\n",
      "| 2019-10-01|           252460901| 70128.02805555555|\n",
      "| 2019-10-17|            31658400|            8794.0|\n",
      "+-----------+--------------------+------------------+\n",
      "\n"
     ]
    },
    {
     "name": "stderr",
     "output_type": "stream",
     "text": [
      "                                                                                \r"
     ]
    }
   ],
   "source": [
    "df_with_duration = df.withColumn('duration_seconds', F.unix_timestamp('dropOff_datetime') - F.unix_timestamp('pickup_datetime')) \\\n",
    "                     .withColumn('pickup_date', F.to_date('pickup_datetime'))\n",
    "\n",
    "result = df_with_duration.groupBy('pickup_date') \\\n",
    "                          .agg(F.max('duration_seconds').alias('max_duration_seconds'))\n",
    "\n",
    "result_with_hours = result.withColumn('max_duration_hours', F.col('max_duration_seconds') / 3600) \\\n",
    "                          .orderBy('max_duration_hours', ascending=False) \\\n",
    "                          .limit(5)\n",
    "\n",
    "result_with_hours.show()"
   ]
  },
  {
   "cell_type": "code",
   "execution_count": 42,
   "id": "74cf0e8b",
   "metadata": {
    "scrolled": true
   },
   "outputs": [
    {
     "name": "stderr",
     "output_type": "stream",
     "text": [
      "[Stage 62:================================================>         (5 + 1) / 6]\r"
     ]
    },
    {
     "name": "stdout",
     "output_type": "stream",
     "text": [
      "+-----------+------------------+\n",
      "|pickup_date|          duration|\n",
      "+-----------+------------------+\n",
      "| 2019-10-28|          631152.5|\n",
      "| 2019-10-11|          631152.5|\n",
      "| 2019-10-31| 87672.44083333333|\n",
      "| 2019-10-01| 70128.02805555555|\n",
      "| 2019-10-17|            8794.0|\n",
      "| 2019-10-26| 8784.166666666666|\n",
      "| 2019-10-30|1464.5344444444445|\n",
      "| 2019-10-25|1056.8266666666666|\n",
      "| 2019-10-02| 769.2313888888889|\n",
      "| 2019-10-23| 745.6166666666667|\n",
      "+-----------+------------------+\n",
      "\n"
     ]
    },
    {
     "name": "stderr",
     "output_type": "stream",
     "text": [
      "                                                                                \r"
     ]
    }
   ],
   "source": [
    "spark.sql(\"\"\"\n",
    "SELECT\n",
    "    to_date(pickup_datetime) AS pickup_date,\n",
    "    MAX((CAST(dropoff_datetime AS LONG) - CAST(pickup_datetime AS LONG)) / 3600) AS duration\n",
    "FROM \n",
    "    fhv_2019_10\n",
    "GROUP BY\n",
    "    1\n",
    "ORDER BY\n",
    "    2 DESC\n",
    "LIMIT 10;\n",
    "\"\"\").show()"
   ]
  },
  {
   "cell_type": "markdown",
   "id": "d915096b",
   "metadata": {},
   "source": [
    "**Q6**: Least frequent pickup location zone\n",
    "\n",
    "Load the zone lookup data into a temp view in Spark\n",
    "Zone Data\n",
    "\n",
    "Using the zone lookup data and the FHV October 2019 data, what is the name of the LEAST frequent pickup location Zone?\n",
    "\n",
    "East Chelsea\n",
    "Jamaica Bay\n",
    "Union Sq\n",
    "Crown Heights North\n",
    "\n"
   ]
  },
  {
   "cell_type": "code",
   "execution_count": 43,
   "id": "25816aa2",
   "metadata": {},
   "outputs": [
    {
     "name": "stderr",
     "output_type": "stream",
     "text": [
      "[Stage 68:======================================>                   (4 + 2) / 6]\r"
     ]
    },
    {
     "name": "stdout",
     "output_type": "stream",
     "text": [
      "+------------+--------+\n",
      "|PUlocationID|count(1)|\n",
      "+------------+--------+\n",
      "|         264| 1500773|\n",
      "|          92|   12183|\n",
      "|         129|   10952|\n",
      "|         265|   10235|\n",
      "|         132|    9307|\n",
      "+------------+--------+\n",
      "\n"
     ]
    },
    {
     "name": "stderr",
     "output_type": "stream",
     "text": [
      "                                                                                \r"
     ]
    }
   ],
   "source": [
    "spark.sql(\"\"\"\n",
    "SELECT\n",
    "    PUlocationID,\n",
    "    COUNT(1)\n",
    "FROM \n",
    "    fhv_2019_10\n",
    "GROUP BY\n",
    "    1\n",
    "ORDER BY\n",
    "    2 DESC\n",
    "LIMIT 5;\n",
    "\"\"\").show()"
   ]
  },
  {
   "cell_type": "code",
   "execution_count": 44,
   "id": "a78f9fe3",
   "metadata": {},
   "outputs": [
    {
     "name": "stderr",
     "output_type": "stream",
     "text": [
      "[Stage 74:======================================>                   (4 + 2) / 6]\r"
     ]
    },
    {
     "name": "stdout",
     "output_type": "stream",
     "text": [
      "+------------+-------+\n",
      "|PUlocationID|  count|\n",
      "+------------+-------+\n",
      "|         264|1500773|\n",
      "|          92|  12183|\n",
      "|         129|  10952|\n",
      "|         265|  10235|\n",
      "|         132|   9307|\n",
      "+------------+-------+\n",
      "\n"
     ]
    },
    {
     "name": "stderr",
     "output_type": "stream",
     "text": [
      "                                                                                \r"
     ]
    }
   ],
   "source": [
    "df \\\n",
    "    .groupBy('PUlocationID') \\\n",
    "        .count() \\\n",
    "    .orderBy('count', ascending=False) \\\n",
    "    .limit(5) \\\n",
    "    .show()"
   ]
  },
  {
   "cell_type": "code",
   "execution_count": 45,
   "id": "99710126-9692-4f59-9278-229f6d444512",
   "metadata": {},
   "outputs": [],
   "source": [
    "df_zones = spark.read.parquet('zones')"
   ]
  },
  {
   "cell_type": "code",
   "execution_count": 46,
   "id": "53e52a31-ba87-495e-9734-f0630eaa2ee7",
   "metadata": {},
   "outputs": [
    {
     "data": {
      "text/plain": [
       "StructType([StructField('LocationID', StringType(), True), StructField('Borough', StringType(), True), StructField('Zone', StringType(), True), StructField('service_zone', StringType(), True)])"
      ]
     },
     "execution_count": 46,
     "metadata": {},
     "output_type": "execute_result"
    }
   ],
   "source": [
    "df_zones.schema"
   ]
  },
  {
   "cell_type": "code",
   "execution_count": 47,
   "id": "4a558286-e9cc-4f2e-8120-369bb217be4d",
   "metadata": {},
   "outputs": [
    {
     "data": {
      "text/plain": [
       "['LocationID', 'Borough', 'Zone', 'service_zone']"
      ]
     },
     "execution_count": 47,
     "metadata": {},
     "output_type": "execute_result"
    }
   ],
   "source": [
    "df_zones.columns"
   ]
  },
  {
   "cell_type": "code",
   "execution_count": 48,
   "id": "e95d46d3-0837-4cc2-8e08-c9405d906656",
   "metadata": {},
   "outputs": [
    {
     "data": {
      "text/plain": [
       "['dispatching_base_num',\n",
       " 'pickup_datetime',\n",
       " 'dropOff_datetime',\n",
       " 'PUlocationID',\n",
       " 'DOlocationID',\n",
       " 'SR_Flag',\n",
       " 'Affiliated_base_number']"
      ]
     },
     "execution_count": 48,
     "metadata": {},
     "output_type": "execute_result"
    }
   ],
   "source": [
    "df.columns"
   ]
  },
  {
   "cell_type": "code",
   "execution_count": 49,
   "id": "d7a01787-c270-415f-a50b-46d79fe4cbb1",
   "metadata": {},
   "outputs": [],
   "source": [
    "df_zones.registerTempTable('zones')"
   ]
  },
  {
   "cell_type": "code",
   "execution_count": 57,
   "id": "491ac088-cb66-45c4-8ea1-69782cc2fd6e",
   "metadata": {},
   "outputs": [
    {
     "name": "stderr",
     "output_type": "stream",
     "text": [
      "[Stage 118:===============================================>         (5 + 1) / 6]\r"
     ]
    },
    {
     "name": "stdout",
     "output_type": "stream",
     "text": [
      "+------------+----------+------------+----------+--------+---------------+---------+--------------------+--------+\n",
      "|PULocationID|LocationID|DOLocationID|LocationID| Borough|           Zone|  Borough|                Zone|count(1)|\n",
      "+------------+----------+------------+----------+--------+---------------+---------+--------------------+--------+\n",
      "|         257|       257|         234|       234|Brooklyn|Windsor Terrace|Manhattan|            Union Sq|       1|\n",
      "|         126|       126|         143|       143|   Bronx|    Hunts Point|Manhattan| Lincoln Square West|       1|\n",
      "|         223|       223|         113|       113|  Queens|       Steinway|Manhattan|Greenwich Village...|       1|\n",
      "|         198|       198|          66|        66|  Queens|      Ridgewood| Brooklyn|  DUMBO/Vinegar Hill|       1|\n",
      "|         192|       192|         148|       148|  Queens|Queensboro Hill|Manhattan|     Lower East Side|       1|\n",
      "+------------+----------+------------+----------+--------+---------------+---------+--------------------+--------+\n",
      "\n"
     ]
    },
    {
     "name": "stderr",
     "output_type": "stream",
     "text": [
      "                                                                                \r"
     ]
    }
   ],
   "source": [
    "spark.sql(\"\"\"\n",
    "SELECT\n",
    "  fhv.PULocationID,\n",
    "  pul.LocationID,\n",
    "  fhv.DOLocationID,\n",
    "  dol.LocationID,\n",
    "  pul.Borough,\n",
    "  pul.Zone,\n",
    "  dol.Borough,\n",
    "  dol.Zone,\n",
    "  COUNT(1)\n",
    "FROM \n",
    "  fhv_2019_10 AS fhv\n",
    "\n",
    "LEFT JOIN\n",
    "  zones AS pul\n",
    "ON\n",
    "  fhv.PULocationID = pul.LocationID\n",
    "\n",
    "LEFT JOIN\n",
    "  zones AS dol\n",
    "ON\n",
    "  fhv.DOLocationID = dol.LocationID\n",
    "\n",
    "GROUP BY \n",
    "    1, 2, 3, 4, 5, 6, 7, 8\n",
    "\n",
    "ORDER BY\n",
    "    9 ASC\n",
    "\n",
    "LIMIT 5;\n",
    "\"\"\").show()"
   ]
  },
  {
   "cell_type": "code",
   "execution_count": 60,
   "id": "f65bfcc1-d34a-4694-ad01-a701241354a0",
   "metadata": {},
   "outputs": [
    {
     "name": "stderr",
     "output_type": "stream",
     "text": [
      "[Stage 141:======================================>                  (4 + 2) / 6]\r"
     ]
    },
    {
     "name": "stdout",
     "output_type": "stream",
     "text": [
      "+------------+----------+--------------------+--------+\n",
      "|PULocationID|LocationID|                Zone|count(1)|\n",
      "+------------+----------+--------------------+--------+\n",
      "|           2|         2|         Jamaica Bay|       1|\n",
      "|         105|       105|Governor's Island...|       2|\n",
      "|         111|       111| Green-Wood Cemetery|       5|\n",
      "|          30|        30|       Broad Channel|       8|\n",
      "|         120|       120|     Highbridge Park|      14|\n",
      "+------------+----------+--------------------+--------+\n",
      "\n"
     ]
    },
    {
     "name": "stderr",
     "output_type": "stream",
     "text": [
      "                                                                                \r"
     ]
    }
   ],
   "source": [
    "spark.sql(\"\"\"\n",
    "SELECT\n",
    "  fhv.PULocationID,\n",
    "  pul.LocationID,\n",
    "  pul.Zone,\n",
    "  COUNT(1)\n",
    "FROM \n",
    "  fhv_2019_10 AS fhv\n",
    "\n",
    "LEFT JOIN\n",
    "  zones AS pul\n",
    "ON\n",
    "  fhv.PULocationID = pul.LocationID\n",
    "\n",
    "LEFT JOIN\n",
    "  zones AS dol\n",
    "ON\n",
    "  fhv.DOLocationID = dol.LocationID\n",
    "\n",
    "GROUP BY \n",
    "    1, 2, 3\n",
    "\n",
    "ORDER BY\n",
    "    4 ASC\n",
    "\n",
    "LIMIT 5;\n",
    "\"\"\").show()"
   ]
  },
  {
   "cell_type": "markdown",
   "id": "0d10173a",
   "metadata": {},
   "source": [
    "**BONUS**: Most common locations pair"
   ]
  },
  {
   "cell_type": "code",
   "execution_count": 61,
   "id": "74b7f664",
   "metadata": {},
   "outputs": [],
   "source": [
    "df_zones = spark.read.parquet('zones')"
   ]
  },
  {
   "cell_type": "code",
   "execution_count": 62,
   "id": "81642d3b",
   "metadata": {},
   "outputs": [
    {
     "data": {
      "text/plain": [
       "['LocationID', 'Borough', 'Zone', 'service_zone']"
      ]
     },
     "execution_count": 62,
     "metadata": {},
     "output_type": "execute_result"
    }
   ],
   "source": [
    "df_zones.columns"
   ]
  },
  {
   "cell_type": "code",
   "execution_count": 63,
   "id": "4f460dda",
   "metadata": {},
   "outputs": [
    {
     "data": {
      "text/plain": [
       "['dispatching_base_num',\n",
       " 'pickup_datetime',\n",
       " 'dropOff_datetime',\n",
       " 'PUlocationID',\n",
       " 'DOlocationID',\n",
       " 'SR_Flag',\n",
       " 'Affiliated_base_number']"
      ]
     },
     "execution_count": 63,
     "metadata": {},
     "output_type": "execute_result"
    }
   ],
   "source": [
    "df.columns"
   ]
  },
  {
   "cell_type": "code",
   "execution_count": 64,
   "id": "ad8f0101",
   "metadata": {},
   "outputs": [],
   "source": [
    "df_zones.registerTempTable('zones')"
   ]
  },
  {
   "cell_type": "code",
   "execution_count": 65,
   "id": "6f738414",
   "metadata": {},
   "outputs": [
    {
     "name": "stderr",
     "output_type": "stream",
     "text": [
      "[Stage 149:======================================>                  (4 + 2) / 6]\r"
     ]
    },
    {
     "name": "stdout",
     "output_type": "stream",
     "text": [
      "+--------------------+--------+\n",
      "|          pu_do_pair|count(1)|\n",
      "+--------------------+--------+\n",
      "|             NV / NV|  341803|\n",
      "|             NV / NA|   38677|\n",
      "|  NV / East New York|   30540|\n",
      "|NV / Williamsbrid...|   23154|\n",
      "|NV / Washington H...|   21667|\n",
      "+--------------------+--------+\n",
      "\n"
     ]
    },
    {
     "name": "stderr",
     "output_type": "stream",
     "text": [
      "                                                                                \r"
     ]
    }
   ],
   "source": [
    "spark.sql(\"\"\"\n",
    "SELECT\n",
    "    CONCAT(pul.Zone, ' / ', dol.Zone) AS pu_do_pair,\n",
    "    COUNT(1)\n",
    "FROM \n",
    "    fhvhv_2021_02 fhv LEFT JOIN zones pul ON fhv.PULocationID = pul.LocationID\n",
    "                      LEFT JOIN zones dol ON fhv.DOLocationID = dol.LocationID\n",
    "GROUP BY \n",
    "    1\n",
    "ORDER BY\n",
    "    2 DESC\n",
    "LIMIT 5;\n",
    "\"\"\").show()"
   ]
  },
  {
   "cell_type": "code",
   "execution_count": null,
   "id": "e4b754d1",
   "metadata": {},
   "outputs": [],
   "source": []
  }
 ],
 "metadata": {
  "kernelspec": {
   "display_name": "Python 3 (ipykernel)",
   "language": "python",
   "name": "python3"
  },
  "language_info": {
   "codemirror_mode": {
    "name": "ipython",
    "version": 3
   },
   "file_extension": ".py",
   "mimetype": "text/x-python",
   "name": "python",
   "nbconvert_exporter": "python",
   "pygments_lexer": "ipython3",
   "version": "3.8.10"
  }
 },
 "nbformat": 4,
 "nbformat_minor": 5
}
